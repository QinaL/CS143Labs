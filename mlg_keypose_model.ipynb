{
  "cells": [
    {
      "cell_type": "markdown",
      "metadata": {
        "id": "view-in-github",
        "colab_type": "text"
      },
      "source": [
        "<a href=\"https://colab.research.google.com/github/QinaL/CS143Labs/blob/main/mlg_keypose_model.ipynb\" target=\"_parent\"><img src=\"https://colab.research.google.com/assets/colab-badge.svg\" alt=\"Open In Colab\"/></a>"
      ]
    },
    {
      "cell_type": "code",
      "source": [
        "from google.colab import drive\n",
        "drive.mount('/content/drive')"
      ],
      "metadata": {
        "colab": {
          "base_uri": "https://localhost:8080/"
        },
        "id": "xMgK8lbxM5-7",
        "outputId": "e22d613f-6f17-4202-d50c-5e1a69b5c342"
      },
      "execution_count": 1,
      "outputs": [
        {
          "output_type": "stream",
          "name": "stdout",
          "text": [
            "Mounted at /content/drive\n"
          ]
        }
      ]
    },
    {
      "cell_type": "code",
      "source": [
        "!cd drive/MyDrive/MLG/MLG_code/ && pwd"
      ],
      "metadata": {
        "colab": {
          "base_uri": "https://localhost:8080/"
        },
        "id": "apZdYceFNH2N",
        "outputId": "dec1edce-15f8-47e2-f8e1-1e25d9404c57"
      },
      "execution_count": 2,
      "outputs": [
        {
          "output_type": "stream",
          "name": "stdout",
          "text": [
            "/content/drive/MyDrive/MLG/MLG_code\n"
          ]
        }
      ]
    },
    {
      "cell_type": "markdown",
      "source": [
        "###"
      ],
      "metadata": {
        "id": "lobrJy0CPGGw"
      }
    },
    {
      "cell_type": "code",
      "execution_count": 3,
      "metadata": {
        "colab": {
          "base_uri": "https://localhost:8080/",
          "height": 35
        },
        "id": "3ehpfqqFMsc3",
        "outputId": "8ce88f01-0629-497f-97f4-abe1b8741d98"
      },
      "outputs": [
        {
          "output_type": "execute_result",
          "data": {
            "text/plain": [
              "'2.15.0'"
            ],
            "application/vnd.google.colaboratory.intrinsic+json": {
              "type": "string"
            }
          },
          "metadata": {},
          "execution_count": 3
        }
      ],
      "source": [
        "import tensorflow as tf\n",
        "tf.__version__"
      ]
    },
    {
      "cell_type": "markdown",
      "metadata": {
        "id": "LueCP--XMsdA"
      },
      "source": [
        "### Data Gen"
      ]
    },
    {
      "cell_type": "code",
      "execution_count": 4,
      "metadata": {
        "id": "P7Xu6WUVMsdB"
      },
      "outputs": [],
      "source": [
        "import numpy as np\n",
        "import keras\n",
        "\n",
        "class DataGenerator(keras.utils.Sequence):\n",
        "    def __init__(self, list_ID, labels, batchsize=32, dim=(28,28), n_channels=1,\n",
        "                 n_classes = 10, shuffle=True):\n",
        "        self.dim = dim\n",
        "        self.list_ID = list_ID\n",
        "        self.labels = labels\n",
        "        self.dim = dim\n",
        "        self.batchsize = batchsize\n",
        "        self.n_channels = n_channels\n",
        "        self.n_classes = n_classes\n",
        "        self.shuffle = shuffle\n",
        "        self.on_epoch_end()\n",
        "\n",
        "    def on_epoch_end(self):\n",
        "        #return super().on_epoch_end()\n",
        "        self.indexes = np.arange(len(self.list_ID))\n",
        "        if self.shuffle:\n",
        "            np.random.shuffle(self.indexes)\n",
        "\n",
        "    def __getitem__(self, index):\n",
        "        indexes = self.indexes[index*self.batchsize:(index+1)*self.batchsize]\n",
        "\n",
        "        list_ID_temps = [self.list_ID[k] for k in indexes]\n",
        "\n",
        "        X,y = self.__generate_data(list_ID_temps)\n",
        "\n",
        "        return X, y\n",
        "\n",
        "    def __generate_data(self, list_ID_temps):\n",
        "        X = np.empty((self.batchsize, *self.dim))\n",
        "        y = np.empty((self.batchsize), dtype=int)\n",
        "\n",
        "        for i, ID in enumerate(list_ID_temps):\n",
        "            X[i, ] = np.load(ID + '.npy')#np.load('prac_data/' + ID + '.npy')\n",
        "\n",
        "            y[i] = self.labels[ID]\n",
        "\n",
        "        return X, y#keras.utils.to_categorical(y, num_classes = self.n_classes)\n",
        "\n",
        "    def __len__(self):\n",
        "        return int(np.floor(len(self.list_ID)/self.batchsize))\n",
        "\n",
        "\n"
      ]
    },
    {
      "cell_type": "markdown",
      "source": [
        "#### Data"
      ],
      "metadata": {
        "id": "zKY4ixZ8T-Lf"
      }
    },
    {
      "cell_type": "code",
      "source": [
        "import os, re, csv\n",
        "import pandas as pd\n",
        "import numpy as np\n",
        "\n",
        "pwd = 'drive/MyDrive/MLG/MLG_code/fflipper_clips/'\n",
        "\n",
        "clips = os.listdir(pwd)\n",
        "print(len(clips))\n",
        "\n",
        "x_data_all = []\n",
        "\n",
        "x_ids = []\n",
        "labels = {}\n",
        "conv = {'in': 0, 'out': 1, 'up': 2, 'down': 3, 'left': 4, 'right': 5, 'upanddown': 6, 'leftandright':7, 'inandout':8}\n",
        "\n",
        "for i in range(len(clips)):\n",
        "  csv = open(pwd+clips[i])\n",
        "  data = csv.readlines()\n",
        "  l = len(data)\n",
        "  keyposes = [list(map(float, data[1].strip().split(','))),\n",
        "              list(map(float, data[l//2].strip().split(','))),\n",
        "              list(map(float, data[l-1].strip().split(',')))\n",
        "  ]\n",
        "\n",
        "  # keyposes_select = [x[6:24]+x[75:] for x in keyposes]\n",
        "  # for i in range(3):\n",
        "  #    del keyposes_select[i][2::3]\n",
        "  #    print(len(keyposes_select[i]))\n",
        "\n",
        "  # print(clips[i], len(data[0]), len(data[1]), len(data[l-1]))\n",
        "  # for the generator\n",
        "  clip_id = clips[i][:-4]\n",
        "  x_ids.append(clip_id)\n",
        "  np.save(clip_id, keyposes)\n",
        "  # np.save(clip_id, keyposes_select)\n",
        "  clip_label = re.search(r'[a-zA-Z]+', clip_id).group()\n",
        "  labels[clip_id] = conv[clip_label.lower()]\n",
        "\n",
        "  # for use later\n",
        "  x_data_all\n",
        "\n",
        "  csv.close()\n",
        "\n",
        "print(x_ids)\n",
        "print(len(x_ids))\n",
        "print(labels)\n",
        "print(len(labels))\n",
        "\n",
        "# 3 rows of 189 points for one clip\n",
        "\n"
      ],
      "metadata": {
        "colab": {
          "base_uri": "https://localhost:8080/"
        },
        "id": "oqm670fGcwbR",
        "outputId": "8ec0545e-d37a-49b1-c23b-b5ea4504487a"
      },
      "execution_count": null,
      "outputs": [
        {
          "output_type": "stream",
          "name": "stdout",
          "text": [
            "2165\n"
          ]
        }
      ]
    },
    {
      "cell_type": "markdown",
      "source": [
        "#### Model Basic"
      ],
      "metadata": {
        "id": "M0eDsQD4T60d"
      }
    },
    {
      "cell_type": "code",
      "source": [
        "params = {'batchsize': 64, 'dim': (3,189), 'n_channels': 1,\n",
        "                 'n_classes' : 9, 'shuffle':True }\n",
        "\n",
        "training_generator = DataGenerator(x_ids, labels, **params)"
      ],
      "metadata": {
        "id": "4i6lPumrg_tL"
      },
      "execution_count": null,
      "outputs": []
    },
    {
      "cell_type": "code",
      "source": [
        "model = tf.keras.models.Sequential([\n",
        "    tf.keras.layers.Flatten(input_shape=(3, 189)),\n",
        "    tf.keras.layers.Dense(200, activation=\"relu\"),\n",
        "    tf.keras.layers.Dense(100, activation=\"relu\"),\n",
        "    tf.keras.layers.Dense(50, activation=\"relu\"),\n",
        "    # tf.keras.layers.Dropout(0.02),\n",
        "    tf.keras.layers.Dense(9)\n",
        "])"
      ],
      "metadata": {
        "id": "CuGL_XtRhspA"
      },
      "execution_count": null,
      "outputs": []
    },
    {
      "cell_type": "code",
      "source": [
        "loss_fn = tf.keras.losses.SparseCategoricalCrossentropy(from_logits=True)"
      ],
      "metadata": {
        "id": "beFP0dNzhHar"
      },
      "execution_count": null,
      "outputs": []
    },
    {
      "cell_type": "code",
      "execution_count": null,
      "metadata": {
        "colab": {
          "base_uri": "https://localhost:8080/"
        },
        "id": "6Wn2fivkMsdC",
        "outputId": "a65cecc9-b9b8-4ae6-cb69-bca242cc2524"
      },
      "outputs": [
        {
          "output_type": "stream",
          "name": "stdout",
          "text": [
            "Epoch 1/10\n",
            "33/33 [==============================] - 3s 19ms/step - loss: 1.7711 - accuracy: 0.2997\n",
            "Epoch 2/10\n",
            "33/33 [==============================] - 1s 19ms/step - loss: 1.3060 - accuracy: 0.5322\n",
            "Epoch 3/10\n",
            "33/33 [==============================] - 1s 19ms/step - loss: 1.0294 - accuracy: 0.6302\n",
            "Epoch 4/10\n",
            "33/33 [==============================] - 1s 20ms/step - loss: 0.8464 - accuracy: 0.7093\n",
            "Epoch 5/10\n",
            "33/33 [==============================] - 1s 20ms/step - loss: 0.7558 - accuracy: 0.7514\n",
            "Epoch 6/10\n",
            "33/33 [==============================] - 1s 19ms/step - loss: 0.6835 - accuracy: 0.7741\n",
            "Epoch 7/10\n",
            "33/33 [==============================] - 1s 24ms/step - loss: 0.6579 - accuracy: 0.7798\n",
            "Epoch 8/10\n",
            "33/33 [==============================] - 1s 28ms/step - loss: 0.6069 - accuracy: 0.8063\n",
            "Epoch 9/10\n",
            "33/33 [==============================] - 1s 32ms/step - loss: 0.5702 - accuracy: 0.8196\n",
            "Epoch 10/10\n",
            "33/33 [==============================] - 1s 30ms/step - loss: 0.5575 - accuracy: 0.8016\n"
          ]
        },
        {
          "output_type": "execute_result",
          "data": {
            "text/plain": [
              "<keras.src.callbacks.History at 0x7ff16b7ea620>"
            ]
          },
          "metadata": {},
          "execution_count": 10
        }
      ],
      "source": [
        "# model.compile(optimizer=\"adam\", loss='binary_crossentropy', metrics=['accuracy'])\n",
        "\n",
        "model.compile(optimizer=\"adam\", loss=loss_fn, metrics=['accuracy'])\n",
        "\n",
        "\n",
        "#model.fit_generator(generator = training_generator, epochs = 5)\n",
        "\n",
        "model.fit(training_generator, epochs = 10)"
      ]
    },
    {
      "cell_type": "markdown",
      "source": [
        "Separate into Test Sets And Model Evaluate"
      ],
      "metadata": {
        "id": "uCH9AYRrvnAj"
      }
    },
    {
      "cell_type": "code",
      "source": [
        "labels_counts = [0, 0, 0, 0, 0, 0, 0, 0, 0]\n",
        "\n",
        "for (clip, axis) in labels.items():\n",
        "  #print(clip, axis)\n",
        "  labels_counts[axis]+=1\n",
        "\n",
        "#{'in': 0, 'out': 1, 'up': 2, 'down': 3, 'left': 4, 'right': 5,\n",
        "# 'upanddown': 6, 'leftandright':7, 'inandout':8}\n",
        "\n",
        "labels_counts"
      ],
      "metadata": {
        "colab": {
          "base_uri": "https://localhost:8080/"
        },
        "id": "ac_nc11Xb5te",
        "outputId": "da5d10b8-464c-4ebe-e3df-c5624560bb2c"
      },
      "execution_count": null,
      "outputs": [
        {
          "output_type": "execute_result",
          "data": {
            "text/plain": [
              "[388, 326, 334, 302, 368, 373, 24, 34, 16]"
            ]
          },
          "metadata": {},
          "execution_count": 58
        }
      ]
    },
    {
      "cell_type": "code",
      "source": [
        "cutoff = int(0.7*2165) #1515\n",
        "cutoff1 = 1800\n",
        "train_x_ids = x_ids[:cutoff]\n",
        "# valid_x_ids = x_ids[cutoff:cutoff1]\n",
        "test_x_ids = x_ids[cutoff:]"
      ],
      "metadata": {
        "id": "5YBPnv2MoEyR"
      },
      "execution_count": null,
      "outputs": []
    },
    {
      "cell_type": "code",
      "source": [
        "training_generator = DataGenerator(train_x_ids, labels, **params)\n",
        "# validation_generator = DataGenerator(valid_x_ids, labels, **params)\n",
        "\n",
        "model.compile(optimizer=\"adam\", loss=loss_fn, metrics=['accuracy'])\n",
        "model.fit(training_generator, epochs = 10)\n"
      ],
      "metadata": {
        "colab": {
          "base_uri": "https://localhost:8080/",
          "height": 363
        },
        "id": "tdrhPR7ipsV_",
        "outputId": "99dd2e3f-a7d0-433a-95f6-c9aa49880040"
      },
      "execution_count": null,
      "outputs": [
        {
          "output_type": "error",
          "ename": "ValueError",
          "evalue": "could not broadcast input array from shape (3,132) into shape (3,189)",
          "traceback": [
            "\u001b[0;31m---------------------------------------------------------------------------\u001b[0m",
            "\u001b[0;31mValueError\u001b[0m                                Traceback (most recent call last)",
            "\u001b[0;32m<ipython-input-62-bde9588d6e58>\u001b[0m in \u001b[0;36m<cell line: 5>\u001b[0;34m()\u001b[0m\n\u001b[1;32m      3\u001b[0m \u001b[0;34m\u001b[0m\u001b[0m\n\u001b[1;32m      4\u001b[0m \u001b[0mmodel\u001b[0m\u001b[0;34m.\u001b[0m\u001b[0mcompile\u001b[0m\u001b[0;34m(\u001b[0m\u001b[0moptimizer\u001b[0m\u001b[0;34m=\u001b[0m\u001b[0;34m\"adam\"\u001b[0m\u001b[0;34m,\u001b[0m \u001b[0mloss\u001b[0m\u001b[0;34m=\u001b[0m\u001b[0mloss_fn\u001b[0m\u001b[0;34m,\u001b[0m \u001b[0mmetrics\u001b[0m\u001b[0;34m=\u001b[0m\u001b[0;34m[\u001b[0m\u001b[0;34m'accuracy'\u001b[0m\u001b[0;34m]\u001b[0m\u001b[0;34m)\u001b[0m\u001b[0;34m\u001b[0m\u001b[0;34m\u001b[0m\u001b[0m\n\u001b[0;32m----> 5\u001b[0;31m \u001b[0mmodel\u001b[0m\u001b[0;34m.\u001b[0m\u001b[0mfit\u001b[0m\u001b[0;34m(\u001b[0m\u001b[0mtraining_generator\u001b[0m\u001b[0;34m,\u001b[0m \u001b[0mepochs\u001b[0m \u001b[0;34m=\u001b[0m \u001b[0;36m10\u001b[0m\u001b[0;34m)\u001b[0m\u001b[0;34m\u001b[0m\u001b[0;34m\u001b[0m\u001b[0m\n\u001b[0m",
            "\u001b[0;32m/usr/local/lib/python3.10/dist-packages/keras/src/utils/traceback_utils.py\u001b[0m in \u001b[0;36merror_handler\u001b[0;34m(*args, **kwargs)\u001b[0m\n\u001b[1;32m     68\u001b[0m             \u001b[0;31m# To get the full stack trace, call:\u001b[0m\u001b[0;34m\u001b[0m\u001b[0;34m\u001b[0m\u001b[0m\n\u001b[1;32m     69\u001b[0m             \u001b[0;31m# `tf.debugging.disable_traceback_filtering()`\u001b[0m\u001b[0;34m\u001b[0m\u001b[0;34m\u001b[0m\u001b[0m\n\u001b[0;32m---> 70\u001b[0;31m             \u001b[0;32mraise\u001b[0m \u001b[0me\u001b[0m\u001b[0;34m.\u001b[0m\u001b[0mwith_traceback\u001b[0m\u001b[0;34m(\u001b[0m\u001b[0mfiltered_tb\u001b[0m\u001b[0;34m)\u001b[0m \u001b[0;32mfrom\u001b[0m \u001b[0;32mNone\u001b[0m\u001b[0;34m\u001b[0m\u001b[0;34m\u001b[0m\u001b[0m\n\u001b[0m\u001b[1;32m     71\u001b[0m         \u001b[0;32mfinally\u001b[0m\u001b[0;34m:\u001b[0m\u001b[0;34m\u001b[0m\u001b[0;34m\u001b[0m\u001b[0m\n\u001b[1;32m     72\u001b[0m             \u001b[0;32mdel\u001b[0m \u001b[0mfiltered_tb\u001b[0m\u001b[0;34m\u001b[0m\u001b[0;34m\u001b[0m\u001b[0m\n",
            "\u001b[0;32m<ipython-input-5-8e813f8cc596>\u001b[0m in \u001b[0;36m__getitem__\u001b[0;34m(self, index)\u001b[0m\n\u001b[1;32m     26\u001b[0m         \u001b[0mlist_ID_temps\u001b[0m \u001b[0;34m=\u001b[0m \u001b[0;34m[\u001b[0m\u001b[0mself\u001b[0m\u001b[0;34m.\u001b[0m\u001b[0mlist_ID\u001b[0m\u001b[0;34m[\u001b[0m\u001b[0mk\u001b[0m\u001b[0;34m]\u001b[0m \u001b[0;32mfor\u001b[0m \u001b[0mk\u001b[0m \u001b[0;32min\u001b[0m \u001b[0mindexes\u001b[0m\u001b[0;34m]\u001b[0m\u001b[0;34m\u001b[0m\u001b[0;34m\u001b[0m\u001b[0m\n\u001b[1;32m     27\u001b[0m \u001b[0;34m\u001b[0m\u001b[0m\n\u001b[0;32m---> 28\u001b[0;31m         \u001b[0mX\u001b[0m\u001b[0;34m,\u001b[0m\u001b[0my\u001b[0m \u001b[0;34m=\u001b[0m \u001b[0mself\u001b[0m\u001b[0;34m.\u001b[0m\u001b[0m__generate_data\u001b[0m\u001b[0;34m(\u001b[0m\u001b[0mlist_ID_temps\u001b[0m\u001b[0;34m)\u001b[0m\u001b[0;34m\u001b[0m\u001b[0;34m\u001b[0m\u001b[0m\n\u001b[0m\u001b[1;32m     29\u001b[0m \u001b[0;34m\u001b[0m\u001b[0m\n\u001b[1;32m     30\u001b[0m         \u001b[0;32mreturn\u001b[0m \u001b[0mX\u001b[0m\u001b[0;34m,\u001b[0m \u001b[0my\u001b[0m\u001b[0;34m\u001b[0m\u001b[0;34m\u001b[0m\u001b[0m\n",
            "\u001b[0;32m<ipython-input-5-8e813f8cc596>\u001b[0m in \u001b[0;36m__generate_data\u001b[0;34m(self, list_ID_temps)\u001b[0m\n\u001b[1;32m     35\u001b[0m \u001b[0;34m\u001b[0m\u001b[0m\n\u001b[1;32m     36\u001b[0m         \u001b[0;32mfor\u001b[0m \u001b[0mi\u001b[0m\u001b[0;34m,\u001b[0m \u001b[0mID\u001b[0m \u001b[0;32min\u001b[0m \u001b[0menumerate\u001b[0m\u001b[0;34m(\u001b[0m\u001b[0mlist_ID_temps\u001b[0m\u001b[0;34m)\u001b[0m\u001b[0;34m:\u001b[0m\u001b[0;34m\u001b[0m\u001b[0;34m\u001b[0m\u001b[0m\n\u001b[0;32m---> 37\u001b[0;31m             \u001b[0mX\u001b[0m\u001b[0;34m[\u001b[0m\u001b[0mi\u001b[0m\u001b[0;34m,\u001b[0m \u001b[0;34m]\u001b[0m \u001b[0;34m=\u001b[0m \u001b[0mnp\u001b[0m\u001b[0;34m.\u001b[0m\u001b[0mload\u001b[0m\u001b[0;34m(\u001b[0m\u001b[0mID\u001b[0m \u001b[0;34m+\u001b[0m \u001b[0;34m'.npy'\u001b[0m\u001b[0;34m)\u001b[0m\u001b[0;31m#np.load('prac_data/' + ID + '.npy')\u001b[0m\u001b[0;34m\u001b[0m\u001b[0;34m\u001b[0m\u001b[0m\n\u001b[0m\u001b[1;32m     38\u001b[0m \u001b[0;34m\u001b[0m\u001b[0m\n\u001b[1;32m     39\u001b[0m             \u001b[0my\u001b[0m\u001b[0;34m[\u001b[0m\u001b[0mi\u001b[0m\u001b[0;34m]\u001b[0m \u001b[0;34m=\u001b[0m \u001b[0mself\u001b[0m\u001b[0;34m.\u001b[0m\u001b[0mlabels\u001b[0m\u001b[0;34m[\u001b[0m\u001b[0mID\u001b[0m\u001b[0;34m]\u001b[0m\u001b[0;34m\u001b[0m\u001b[0;34m\u001b[0m\u001b[0m\n",
            "\u001b[0;31mValueError\u001b[0m: could not broadcast input array from shape (3,132) into shape (3,189)"
          ]
        }
      ]
    },
    {
      "cell_type": "code",
      "source": [
        "x_test = []\n",
        "y_test = []\n",
        "\n",
        "for i in test_x_ids:\n",
        "  x_test.append(np.load(i+'.npy'))\n",
        "  y_test.append(labels[i])\n",
        "  #print(i)"
      ],
      "metadata": {
        "id": "jOMd0yBJqkAy"
      },
      "execution_count": null,
      "outputs": []
    },
    {
      "cell_type": "code",
      "source": [
        "model.evaluate(np.array(x_test), np.array(y_test), verbose =1)"
      ],
      "metadata": {
        "colab": {
          "base_uri": "https://localhost:8080/"
        },
        "id": "Tp1Yrz8yrTk1",
        "outputId": "e09b5630-08c2-4f1b-95fe-4a29fd5b8a89"
      },
      "execution_count": null,
      "outputs": [
        {
          "output_type": "stream",
          "name": "stdout",
          "text": [
            "21/21 [==============================] - 0s 2ms/step - loss: 0.4922 - accuracy: 0.8415\n"
          ]
        },
        {
          "output_type": "execute_result",
          "data": {
            "text/plain": [
              "[0.4921935498714447, 0.8415384888648987]"
            ]
          },
          "metadata": {},
          "execution_count": 20
        }
      ]
    },
    {
      "cell_type": "markdown",
      "source": [
        "Labels Distribution"
      ],
      "metadata": {
        "id": "EK2ddYTbvgit"
      }
    },
    {
      "cell_type": "code",
      "source": [
        "labels_counts_all = [0, 0, 0, 0, 0, 0, 0, 0, 0]\n",
        "labels_counts_train = [0, 0, 0, 0, 0, 0, 0, 0, 0]\n",
        "labels_counts_test = [0, 0, 0, 0, 0, 0, 0, 0, 0]\n",
        "\n",
        "for i in test_x_ids:\n",
        "  y = labels[i]\n",
        "  labels_counts_all[y] +=1\n",
        "  labels_counts_test[y] += 1\n",
        "\n",
        "for i in train_x_ids:\n",
        "  y = labels[i]\n",
        "  labels_counts_all[y] +=1\n",
        "  labels_counts_train[y] += 1\n",
        "\n",
        "print(\"in, out, up, down, left, right, upanddown, leftandright, inandout\")\n",
        "print(\"all:\", labels_counts_all)\n",
        "print(\"train:\", labels_counts_train)\n",
        "print(\"test:\", labels_counts_test)"
      ],
      "metadata": {
        "colab": {
          "base_uri": "https://localhost:8080/"
        },
        "id": "E5pJXj8wshOr",
        "outputId": "321f1bd1-29a2-4e3a-ad9d-775bcf593e68"
      },
      "execution_count": null,
      "outputs": [
        {
          "output_type": "stream",
          "name": "stdout",
          "text": [
            "in, out, up, down, left, right, upanddown, leftandright, inandout\n",
            "all: [388, 326, 334, 302, 368, 373, 24, 34, 16]\n",
            "train: [260, 231, 222, 207, 255, 266, 24, 34, 16]\n",
            "test: [128, 95, 112, 95, 113, 107, 0, 0, 0]\n"
          ]
        }
      ]
    },
    {
      "cell_type": "code",
      "source": [
        "model.predict([x_test[0].tolist()])\n",
        "\n",
        "\n"
      ],
      "metadata": {
        "colab": {
          "base_uri": "https://localhost:8080/"
        },
        "id": "1fT_CuZohs3w",
        "outputId": "3adf896c-5592-4da1-8a00-3e99d9ae3ab3"
      },
      "execution_count": null,
      "outputs": [
        {
          "output_type": "stream",
          "name": "stdout",
          "text": [
            "1/1 [==============================] - 0s 141ms/step\n"
          ]
        },
        {
          "output_type": "execute_result",
          "data": {
            "text/plain": [
              "array([[ 2.438324  ,  2.323279  , -1.3427991 , -0.24428414,  0.40739217,\n",
              "         0.48151043, -2.63612   , -2.9101057 , -2.4040442 ]],\n",
              "      dtype=float32)"
            ]
          },
          "metadata": {},
          "execution_count": 22
        }
      ]
    },
    {
      "cell_type": "markdown",
      "source": [
        "Probabilities"
      ],
      "metadata": {
        "id": "FSx55DNQUR6r"
      }
    },
    {
      "cell_type": "code",
      "source": [
        "prob_model = tf.keras.Sequential([\n",
        "    model,\n",
        "    tf.keras.layers.Softmax()\n",
        "])\n",
        "\n",
        "prob_model.predict([x_test[0].tolist()])"
      ],
      "metadata": {
        "colab": {
          "base_uri": "https://localhost:8080/"
        },
        "id": "fnwKmZkUHq7c",
        "outputId": "f5627eeb-387b-4cac-f605-680cd44619c3"
      },
      "execution_count": null,
      "outputs": [
        {
          "output_type": "stream",
          "name": "stderr",
          "text": [
            "WARNING:tensorflow:5 out of the last 5 calls to <function Model.make_predict_function.<locals>.predict_function at 0x7ff0d6a9bd00> triggered tf.function retracing. Tracing is expensive and the excessive number of tracings could be due to (1) creating @tf.function repeatedly in a loop, (2) passing tensors with different shapes, (3) passing Python objects instead of tensors. For (1), please define your @tf.function outside of the loop. For (2), @tf.function has reduce_retracing=True option that can avoid unnecessary retracing. For (3), please refer to https://www.tensorflow.org/guide/function#controlling_retracing and https://www.tensorflow.org/api_docs/python/tf/function for  more details.\n"
          ]
        },
        {
          "output_type": "stream",
          "name": "stdout",
          "text": [
            "1/1 [==============================] - 0s 70ms/step\n"
          ]
        },
        {
          "output_type": "execute_result",
          "data": {
            "text/plain": [
              "array([[9.9999797e-01, 8.8972229e-08, 2.5569942e-09, 9.6002797e-09,\n",
              "        2.4745589e-07, 1.8578648e-07, 1.1556996e-07, 4.6206252e-09,\n",
              "        1.2889461e-06]], dtype=float32)"
            ]
          },
          "metadata": {},
          "execution_count": 88
        }
      ]
    },
    {
      "cell_type": "code",
      "source": [
        "model_with_prob = tf.keras.Sequential([\n",
        "    tf.keras.layers.Flatten(input_shape=(3, 189)),\n",
        "    tf.keras.layers.Dense(200, activation=\"relu\"),\n",
        "    tf.keras.layers.Dense(100, activation=\"relu\"),\n",
        "    tf.keras.layers.Dense(50, activation=\"relu\"),\n",
        "    # tf.keras.layers.Dropout(0.02),\n",
        "    tf.keras.layers.Dense(9),\n",
        "    tf.keras.layers.Softmax()\n",
        "])\n",
        "\n",
        "loss_fn_2 = tf.keras.losses.SparseCategoricalCrossentropy(from_logits=False)"
      ],
      "metadata": {
        "id": "LdmTCL8BIOM6"
      },
      "execution_count": null,
      "outputs": []
    },
    {
      "cell_type": "code",
      "source": [
        "model_with_prob.compile(optimizer=\"adam\", loss=loss_fn_2, metrics=['accuracy'])\n",
        "model_with_prob.fit(training_generator, epochs = 10)"
      ],
      "metadata": {
        "colab": {
          "base_uri": "https://localhost:8080/"
        },
        "id": "qXQJfDHnJUGK",
        "outputId": "6651daff-92b2-4869-8765-d160c834d605"
      },
      "execution_count": null,
      "outputs": [
        {
          "output_type": "stream",
          "name": "stdout",
          "text": [
            "Epoch 1/10\n",
            "23/23 [==============================] - 2s 19ms/step - loss: 1.8376 - accuracy: 0.2758\n",
            "Epoch 2/10\n",
            "23/23 [==============================] - 0s 19ms/step - loss: 1.4371 - accuracy: 0.5204\n",
            "Epoch 3/10\n",
            "23/23 [==============================] - 0s 19ms/step - loss: 1.1796 - accuracy: 0.5815\n",
            "Epoch 4/10\n",
            "23/23 [==============================] - 0s 20ms/step - loss: 0.9876 - accuracy: 0.6739\n",
            "Epoch 5/10\n",
            "23/23 [==============================] - 0s 20ms/step - loss: 0.8967 - accuracy: 0.7038\n",
            "Epoch 6/10\n",
            "23/23 [==============================] - 0s 19ms/step - loss: 0.8321 - accuracy: 0.7242\n",
            "Epoch 7/10\n",
            "23/23 [==============================] - 0s 19ms/step - loss: 0.7881 - accuracy: 0.7364\n",
            "Epoch 8/10\n",
            "23/23 [==============================] - 0s 19ms/step - loss: 0.7605 - accuracy: 0.7181\n",
            "Epoch 9/10\n",
            "23/23 [==============================] - 0s 20ms/step - loss: 0.7334 - accuracy: 0.7439\n",
            "Epoch 10/10\n",
            "23/23 [==============================] - 0s 18ms/step - loss: 0.6584 - accuracy: 0.7765\n"
          ]
        },
        {
          "output_type": "execute_result",
          "data": {
            "text/plain": [
              "<keras.src.callbacks.History at 0x7ff15019d4b0>"
            ]
          },
          "metadata": {},
          "execution_count": 25
        }
      ]
    },
    {
      "cell_type": "code",
      "source": [
        "model_with_prob.evaluate(np.array(x_test), np.array(y_test), verbose =1)"
      ],
      "metadata": {
        "colab": {
          "base_uri": "https://localhost:8080/"
        },
        "id": "UQu6JRNFJiVU",
        "outputId": "2bb8cc90-780f-4e60-808e-2e30e3d451a8"
      },
      "execution_count": null,
      "outputs": [
        {
          "output_type": "stream",
          "name": "stdout",
          "text": [
            "21/21 [==============================] - 0s 3ms/step - loss: 0.5450 - accuracy: 0.7969\n"
          ]
        },
        {
          "output_type": "execute_result",
          "data": {
            "text/plain": [
              "[0.5450447201728821, 0.7969231009483337]"
            ]
          },
          "metadata": {},
          "execution_count": 27
        }
      ]
    },
    {
      "cell_type": "code",
      "source": [
        "model_with_prob.predict([x_test[0].tolist()])"
      ],
      "metadata": {
        "colab": {
          "base_uri": "https://localhost:8080/"
        },
        "id": "8zmNQZ-MJk4E",
        "outputId": "4569dff0-7c50-473e-c515-21999ffa86a0"
      },
      "execution_count": null,
      "outputs": [
        {
          "output_type": "stream",
          "name": "stdout",
          "text": [
            "1/1 [==============================] - 0s 95ms/step\n"
          ]
        },
        {
          "output_type": "execute_result",
          "data": {
            "text/plain": [
              "array([[0.6471133 , 0.15781   , 0.03554948, 0.01106995, 0.07153244,\n",
              "        0.07166701, 0.00116935, 0.00217144, 0.00191696]], dtype=float32)"
            ]
          },
          "metadata": {},
          "execution_count": 28
        }
      ]
    },
    {
      "cell_type": "code",
      "source": [
        "y_test[0]"
      ],
      "metadata": {
        "colab": {
          "base_uri": "https://localhost:8080/"
        },
        "id": "L9fhWBqPJxLA",
        "outputId": "6dbe6ddb-b2c0-4714-890a-c6d8ecdca8a7"
      },
      "execution_count": null,
      "outputs": [
        {
          "output_type": "execute_result",
          "data": {
            "text/plain": [
              "0"
            ]
          },
          "metadata": {},
          "execution_count": 29
        }
      ]
    },
    {
      "cell_type": "markdown",
      "source": [
        "Select Points"
      ],
      "metadata": {
        "id": "IY7uuZXXgXr5"
      }
    },
    {
      "cell_type": "code",
      "source": [
        "for i in range(len(clips)):\n",
        "  csv = open(pwd+clips[i])\n",
        "  data = csv.readlines()\n",
        "  l = len(data)\n",
        "  print(data[0])\n",
        "  keyposes = [list(map(float, data[1].strip().split(','))),\n",
        "              list(map(float, data[l//2].strip().split(','))),\n",
        "              list(map(float, data[l-1].strip().split(',')))\n",
        "  ]\n",
        "\n",
        "  # print(clips[i], len(data[0]), len(data[1]), len(data[l-1]))\n",
        "  # for the generator\n",
        "  # clip_id = clips[i][:-4]\n",
        "  # x_ids.append(clip_id)\n",
        "  # np.save(clip_id, keyposes)\n",
        "  # clip_label = re.search(r'[a-zA-Z]+', clip_id).group()\n",
        "  # labels[clip_id] = conv[clip_label.lower()]\n",
        "\n",
        "  # for use later\n",
        "  # x_data_all\n",
        "  titles = data[0].strip().split(',')\n",
        "  print(titles)\n",
        "  print(titles[6:24])\n",
        "  print(titles[75:])\n",
        "  print(titles.index(\"left_wrist_x\"))\n",
        "  new = titles[6:24]+titles[75:]\n",
        "  print(len(new))\n",
        "  print(new)\n",
        "  del new[2::3]\n",
        "  print(new)\n",
        "  print(len(new))\n",
        "\n",
        "  keyposes_select = [x[6:24]+x[75:] for x in keyposes]\n",
        "\n",
        "  # for i in keyposes:\n",
        "  #   print(i)\n",
        "  #   print(len(i))\n",
        "  # # print(keyposes)\n",
        "\n",
        "  # for i in keyposes_select:\n",
        "  #   print(i)\n",
        "  #   print(len(i))\n",
        "\n",
        "  csv.close()\n",
        "  break"
      ],
      "metadata": {
        "colab": {
          "base_uri": "https://localhost:8080/"
        },
        "id": "Co0NxZxygZkc",
        "outputId": "deac6262-0a47-4f53-a333-7486efed32a6"
      },
      "execution_count": null,
      "outputs": [
        {
          "output_type": "stream",
          "name": "stdout",
          "text": [
            "nose_x,nose_y,nose_c,neck_x,neck_y,neck_c,rshoulder_x,rshoulder_y,rshoulder_c,relbow_x,relbow_y,relbow_c,rwrist_x,rwrist_y,rwrist_c,lshoulder_x,lshoulder_y,lshoulder_c,lelbow_x,lelbow_y,lelbow_c,lwrist_x,lwrist_y,lwrist_c,midhip_x,midhip_y,midhip_c,rhip_x,rhip_y,rhip_c,rknee_x,rknee_y,rknee_c,rankle_x,rankle_y,rankle_c,lhip_x,lhip_y,lhip_c,lknee_x,lknee_y,lknee_c,lankle_x,lankle_y,lankle_c,reye_x,reye_y,reye_c,leye_x,leye_y,leye_c,rear_x,rear_y,rear_c,lear_x,lear_y,lear_c,lbigtoe_x,lbigtoe_y,lbigtoe_c,lsmalltoe_x,lsmalltoe_y,lsmalltoe_c,lheel_x,lheel_y,lheel_c,rbigtoe_x,rbigtoe_y,rbigtoe_c,rsmalltoe_x,rsmalltoe_y,rsmalltoe_c,rheel_x,rheel_y,rheel_c,left_wrist_x,left_wrist_y,left_wrist_c,left_thumb_cmc_x,left_thumb_cmc_y,left_thumb_cmc_c,left_thumb_mcp_x,left_thumb_mcp_y,left_thumb_mcp_c,left_thumb_ip_x,left_thumb_ip_y,left_thumb_ip_c,left_thumb_tip_x,left_thumb_tip_y,left_thumb_tip_c,left_index_mcp_x,left_index_mcp_y,left_index_mcp_c,left_index_pip_x,left_index_pip_y,left_index_pip_c,left_index_dip_x,left_index_dip_y,left_index_dip_c,left_index_tip_x,left_index_tip_y,left_index_tip_c,left_middle_mcp_x,left_middle_mcp_y,left_middle_mcp_c,left_middle_pip_x,left_middle_pip_y,left_middle_pip_c,left_middle_dip_x,left_middle_dip_y,left_middle_dip_c,left_middle_tip_x,left_middle_tip_y,left_middle_tip_c,left_ring_mcp_x,left_ring_mcp_y,left_ring_mcp_c,left_ring_pip_x,left_ring_pip_y,left_ring_pip_c,left_ring_dip_x,left_ring_dip_y,left_ring_dip_c,left_ring_tip_x,left_ring_tip_y,left_ring_tip_c,left_pinky_mcp_x,left_pinky_mcp_y,left_pinky_mcp_c,left_pinky_pip_x,left_pinky_pip_y,left_pinky_pip_c,right_wrist_x,right_wrist_y,right_wrist_c,right_thumb_cmc_x,right_thumb_cmc_y,right_thumb_cmc_c,right_thumb_mcp_x,right_thumb_mcp_y,right_thumb_mcp_c,right_thumb_ip_x,right_thumb_ip_y,right_thumb_ip_c,right_thumb_tip_x,right_thumb_tip_y,right_thumb_tip_c,right_index_mcp_x,right_index_mcp_y,right_index_mcp_c,right_index_pip_x,right_index_pip_y,right_index_pip_c,right_index_dip_x,right_index_dip_y,right_index_dip_c,right_index_tip_x,right_index_tip_y,right_index_tip_c,right_middle_mcp_x,right_middle_mcp_y,right_middle_mcp_c,right_middle_pip_x,right_middle_pip_y,right_middle_pip_c,right_middle_dip_x,right_middle_dip_y,right_middle_dip_c,right_middle_tip_x,right_middle_tip_y,right_middle_tip_c,right_ring_mcp_x,right_ring_mcp_y,right_ring_mcp_c,right_ring_pip_x,right_ring_pip_y,right_ring_pip_c,right_ring_dip_x,right_ring_dip_y,right_ring_dip_c,right_ring_tip_x,right_ring_tip_y,right_ring_tip_c,right_pinky_mcp_x,right_pinky_mcp_y,right_pinky_mcp_c,right_pinky_pip_x,right_pinky_pip_y,right_pinky_pip_c\n",
            "\n",
            "['nose_x', 'nose_y', 'nose_c', 'neck_x', 'neck_y', 'neck_c', 'rshoulder_x', 'rshoulder_y', 'rshoulder_c', 'relbow_x', 'relbow_y', 'relbow_c', 'rwrist_x', 'rwrist_y', 'rwrist_c', 'lshoulder_x', 'lshoulder_y', 'lshoulder_c', 'lelbow_x', 'lelbow_y', 'lelbow_c', 'lwrist_x', 'lwrist_y', 'lwrist_c', 'midhip_x', 'midhip_y', 'midhip_c', 'rhip_x', 'rhip_y', 'rhip_c', 'rknee_x', 'rknee_y', 'rknee_c', 'rankle_x', 'rankle_y', 'rankle_c', 'lhip_x', 'lhip_y', 'lhip_c', 'lknee_x', 'lknee_y', 'lknee_c', 'lankle_x', 'lankle_y', 'lankle_c', 'reye_x', 'reye_y', 'reye_c', 'leye_x', 'leye_y', 'leye_c', 'rear_x', 'rear_y', 'rear_c', 'lear_x', 'lear_y', 'lear_c', 'lbigtoe_x', 'lbigtoe_y', 'lbigtoe_c', 'lsmalltoe_x', 'lsmalltoe_y', 'lsmalltoe_c', 'lheel_x', 'lheel_y', 'lheel_c', 'rbigtoe_x', 'rbigtoe_y', 'rbigtoe_c', 'rsmalltoe_x', 'rsmalltoe_y', 'rsmalltoe_c', 'rheel_x', 'rheel_y', 'rheel_c', 'left_wrist_x', 'left_wrist_y', 'left_wrist_c', 'left_thumb_cmc_x', 'left_thumb_cmc_y', 'left_thumb_cmc_c', 'left_thumb_mcp_x', 'left_thumb_mcp_y', 'left_thumb_mcp_c', 'left_thumb_ip_x', 'left_thumb_ip_y', 'left_thumb_ip_c', 'left_thumb_tip_x', 'left_thumb_tip_y', 'left_thumb_tip_c', 'left_index_mcp_x', 'left_index_mcp_y', 'left_index_mcp_c', 'left_index_pip_x', 'left_index_pip_y', 'left_index_pip_c', 'left_index_dip_x', 'left_index_dip_y', 'left_index_dip_c', 'left_index_tip_x', 'left_index_tip_y', 'left_index_tip_c', 'left_middle_mcp_x', 'left_middle_mcp_y', 'left_middle_mcp_c', 'left_middle_pip_x', 'left_middle_pip_y', 'left_middle_pip_c', 'left_middle_dip_x', 'left_middle_dip_y', 'left_middle_dip_c', 'left_middle_tip_x', 'left_middle_tip_y', 'left_middle_tip_c', 'left_ring_mcp_x', 'left_ring_mcp_y', 'left_ring_mcp_c', 'left_ring_pip_x', 'left_ring_pip_y', 'left_ring_pip_c', 'left_ring_dip_x', 'left_ring_dip_y', 'left_ring_dip_c', 'left_ring_tip_x', 'left_ring_tip_y', 'left_ring_tip_c', 'left_pinky_mcp_x', 'left_pinky_mcp_y', 'left_pinky_mcp_c', 'left_pinky_pip_x', 'left_pinky_pip_y', 'left_pinky_pip_c', 'right_wrist_x', 'right_wrist_y', 'right_wrist_c', 'right_thumb_cmc_x', 'right_thumb_cmc_y', 'right_thumb_cmc_c', 'right_thumb_mcp_x', 'right_thumb_mcp_y', 'right_thumb_mcp_c', 'right_thumb_ip_x', 'right_thumb_ip_y', 'right_thumb_ip_c', 'right_thumb_tip_x', 'right_thumb_tip_y', 'right_thumb_tip_c', 'right_index_mcp_x', 'right_index_mcp_y', 'right_index_mcp_c', 'right_index_pip_x', 'right_index_pip_y', 'right_index_pip_c', 'right_index_dip_x', 'right_index_dip_y', 'right_index_dip_c', 'right_index_tip_x', 'right_index_tip_y', 'right_index_tip_c', 'right_middle_mcp_x', 'right_middle_mcp_y', 'right_middle_mcp_c', 'right_middle_pip_x', 'right_middle_pip_y', 'right_middle_pip_c', 'right_middle_dip_x', 'right_middle_dip_y', 'right_middle_dip_c', 'right_middle_tip_x', 'right_middle_tip_y', 'right_middle_tip_c', 'right_ring_mcp_x', 'right_ring_mcp_y', 'right_ring_mcp_c', 'right_ring_pip_x', 'right_ring_pip_y', 'right_ring_pip_c', 'right_ring_dip_x', 'right_ring_dip_y', 'right_ring_dip_c', 'right_ring_tip_x', 'right_ring_tip_y', 'right_ring_tip_c', 'right_pinky_mcp_x', 'right_pinky_mcp_y', 'right_pinky_mcp_c', 'right_pinky_pip_x', 'right_pinky_pip_y', 'right_pinky_pip_c']\n",
            "['rshoulder_x', 'rshoulder_y', 'rshoulder_c', 'relbow_x', 'relbow_y', 'relbow_c', 'rwrist_x', 'rwrist_y', 'rwrist_c', 'lshoulder_x', 'lshoulder_y', 'lshoulder_c', 'lelbow_x', 'lelbow_y', 'lelbow_c', 'lwrist_x', 'lwrist_y', 'lwrist_c']\n",
            "['left_wrist_x', 'left_wrist_y', 'left_wrist_c', 'left_thumb_cmc_x', 'left_thumb_cmc_y', 'left_thumb_cmc_c', 'left_thumb_mcp_x', 'left_thumb_mcp_y', 'left_thumb_mcp_c', 'left_thumb_ip_x', 'left_thumb_ip_y', 'left_thumb_ip_c', 'left_thumb_tip_x', 'left_thumb_tip_y', 'left_thumb_tip_c', 'left_index_mcp_x', 'left_index_mcp_y', 'left_index_mcp_c', 'left_index_pip_x', 'left_index_pip_y', 'left_index_pip_c', 'left_index_dip_x', 'left_index_dip_y', 'left_index_dip_c', 'left_index_tip_x', 'left_index_tip_y', 'left_index_tip_c', 'left_middle_mcp_x', 'left_middle_mcp_y', 'left_middle_mcp_c', 'left_middle_pip_x', 'left_middle_pip_y', 'left_middle_pip_c', 'left_middle_dip_x', 'left_middle_dip_y', 'left_middle_dip_c', 'left_middle_tip_x', 'left_middle_tip_y', 'left_middle_tip_c', 'left_ring_mcp_x', 'left_ring_mcp_y', 'left_ring_mcp_c', 'left_ring_pip_x', 'left_ring_pip_y', 'left_ring_pip_c', 'left_ring_dip_x', 'left_ring_dip_y', 'left_ring_dip_c', 'left_ring_tip_x', 'left_ring_tip_y', 'left_ring_tip_c', 'left_pinky_mcp_x', 'left_pinky_mcp_y', 'left_pinky_mcp_c', 'left_pinky_pip_x', 'left_pinky_pip_y', 'left_pinky_pip_c', 'right_wrist_x', 'right_wrist_y', 'right_wrist_c', 'right_thumb_cmc_x', 'right_thumb_cmc_y', 'right_thumb_cmc_c', 'right_thumb_mcp_x', 'right_thumb_mcp_y', 'right_thumb_mcp_c', 'right_thumb_ip_x', 'right_thumb_ip_y', 'right_thumb_ip_c', 'right_thumb_tip_x', 'right_thumb_tip_y', 'right_thumb_tip_c', 'right_index_mcp_x', 'right_index_mcp_y', 'right_index_mcp_c', 'right_index_pip_x', 'right_index_pip_y', 'right_index_pip_c', 'right_index_dip_x', 'right_index_dip_y', 'right_index_dip_c', 'right_index_tip_x', 'right_index_tip_y', 'right_index_tip_c', 'right_middle_mcp_x', 'right_middle_mcp_y', 'right_middle_mcp_c', 'right_middle_pip_x', 'right_middle_pip_y', 'right_middle_pip_c', 'right_middle_dip_x', 'right_middle_dip_y', 'right_middle_dip_c', 'right_middle_tip_x', 'right_middle_tip_y', 'right_middle_tip_c', 'right_ring_mcp_x', 'right_ring_mcp_y', 'right_ring_mcp_c', 'right_ring_pip_x', 'right_ring_pip_y', 'right_ring_pip_c', 'right_ring_dip_x', 'right_ring_dip_y', 'right_ring_dip_c', 'right_ring_tip_x', 'right_ring_tip_y', 'right_ring_tip_c', 'right_pinky_mcp_x', 'right_pinky_mcp_y', 'right_pinky_mcp_c', 'right_pinky_pip_x', 'right_pinky_pip_y', 'right_pinky_pip_c']\n",
            "75\n",
            "132\n",
            "['rshoulder_x', 'rshoulder_y', 'rshoulder_c', 'relbow_x', 'relbow_y', 'relbow_c', 'rwrist_x', 'rwrist_y', 'rwrist_c', 'lshoulder_x', 'lshoulder_y', 'lshoulder_c', 'lelbow_x', 'lelbow_y', 'lelbow_c', 'lwrist_x', 'lwrist_y', 'lwrist_c', 'left_wrist_x', 'left_wrist_y', 'left_wrist_c', 'left_thumb_cmc_x', 'left_thumb_cmc_y', 'left_thumb_cmc_c', 'left_thumb_mcp_x', 'left_thumb_mcp_y', 'left_thumb_mcp_c', 'left_thumb_ip_x', 'left_thumb_ip_y', 'left_thumb_ip_c', 'left_thumb_tip_x', 'left_thumb_tip_y', 'left_thumb_tip_c', 'left_index_mcp_x', 'left_index_mcp_y', 'left_index_mcp_c', 'left_index_pip_x', 'left_index_pip_y', 'left_index_pip_c', 'left_index_dip_x', 'left_index_dip_y', 'left_index_dip_c', 'left_index_tip_x', 'left_index_tip_y', 'left_index_tip_c', 'left_middle_mcp_x', 'left_middle_mcp_y', 'left_middle_mcp_c', 'left_middle_pip_x', 'left_middle_pip_y', 'left_middle_pip_c', 'left_middle_dip_x', 'left_middle_dip_y', 'left_middle_dip_c', 'left_middle_tip_x', 'left_middle_tip_y', 'left_middle_tip_c', 'left_ring_mcp_x', 'left_ring_mcp_y', 'left_ring_mcp_c', 'left_ring_pip_x', 'left_ring_pip_y', 'left_ring_pip_c', 'left_ring_dip_x', 'left_ring_dip_y', 'left_ring_dip_c', 'left_ring_tip_x', 'left_ring_tip_y', 'left_ring_tip_c', 'left_pinky_mcp_x', 'left_pinky_mcp_y', 'left_pinky_mcp_c', 'left_pinky_pip_x', 'left_pinky_pip_y', 'left_pinky_pip_c', 'right_wrist_x', 'right_wrist_y', 'right_wrist_c', 'right_thumb_cmc_x', 'right_thumb_cmc_y', 'right_thumb_cmc_c', 'right_thumb_mcp_x', 'right_thumb_mcp_y', 'right_thumb_mcp_c', 'right_thumb_ip_x', 'right_thumb_ip_y', 'right_thumb_ip_c', 'right_thumb_tip_x', 'right_thumb_tip_y', 'right_thumb_tip_c', 'right_index_mcp_x', 'right_index_mcp_y', 'right_index_mcp_c', 'right_index_pip_x', 'right_index_pip_y', 'right_index_pip_c', 'right_index_dip_x', 'right_index_dip_y', 'right_index_dip_c', 'right_index_tip_x', 'right_index_tip_y', 'right_index_tip_c', 'right_middle_mcp_x', 'right_middle_mcp_y', 'right_middle_mcp_c', 'right_middle_pip_x', 'right_middle_pip_y', 'right_middle_pip_c', 'right_middle_dip_x', 'right_middle_dip_y', 'right_middle_dip_c', 'right_middle_tip_x', 'right_middle_tip_y', 'right_middle_tip_c', 'right_ring_mcp_x', 'right_ring_mcp_y', 'right_ring_mcp_c', 'right_ring_pip_x', 'right_ring_pip_y', 'right_ring_pip_c', 'right_ring_dip_x', 'right_ring_dip_y', 'right_ring_dip_c', 'right_ring_tip_x', 'right_ring_tip_y', 'right_ring_tip_c', 'right_pinky_mcp_x', 'right_pinky_mcp_y', 'right_pinky_mcp_c', 'right_pinky_pip_x', 'right_pinky_pip_y', 'right_pinky_pip_c']\n",
            "['rshoulder_x', 'rshoulder_y', 'relbow_x', 'relbow_y', 'rwrist_x', 'rwrist_y', 'lshoulder_x', 'lshoulder_y', 'lelbow_x', 'lelbow_y', 'lwrist_x', 'lwrist_y', 'left_wrist_x', 'left_wrist_y', 'left_thumb_cmc_x', 'left_thumb_cmc_y', 'left_thumb_mcp_x', 'left_thumb_mcp_y', 'left_thumb_ip_x', 'left_thumb_ip_y', 'left_thumb_tip_x', 'left_thumb_tip_y', 'left_index_mcp_x', 'left_index_mcp_y', 'left_index_pip_x', 'left_index_pip_y', 'left_index_dip_x', 'left_index_dip_y', 'left_index_tip_x', 'left_index_tip_y', 'left_middle_mcp_x', 'left_middle_mcp_y', 'left_middle_pip_x', 'left_middle_pip_y', 'left_middle_dip_x', 'left_middle_dip_y', 'left_middle_tip_x', 'left_middle_tip_y', 'left_ring_mcp_x', 'left_ring_mcp_y', 'left_ring_pip_x', 'left_ring_pip_y', 'left_ring_dip_x', 'left_ring_dip_y', 'left_ring_tip_x', 'left_ring_tip_y', 'left_pinky_mcp_x', 'left_pinky_mcp_y', 'left_pinky_pip_x', 'left_pinky_pip_y', 'right_wrist_x', 'right_wrist_y', 'right_thumb_cmc_x', 'right_thumb_cmc_y', 'right_thumb_mcp_x', 'right_thumb_mcp_y', 'right_thumb_ip_x', 'right_thumb_ip_y', 'right_thumb_tip_x', 'right_thumb_tip_y', 'right_index_mcp_x', 'right_index_mcp_y', 'right_index_pip_x', 'right_index_pip_y', 'right_index_dip_x', 'right_index_dip_y', 'right_index_tip_x', 'right_index_tip_y', 'right_middle_mcp_x', 'right_middle_mcp_y', 'right_middle_pip_x', 'right_middle_pip_y', 'right_middle_dip_x', 'right_middle_dip_y', 'right_middle_tip_x', 'right_middle_tip_y', 'right_ring_mcp_x', 'right_ring_mcp_y', 'right_ring_pip_x', 'right_ring_pip_y', 'right_ring_dip_x', 'right_ring_dip_y', 'right_ring_tip_x', 'right_ring_tip_y', 'right_pinky_mcp_x', 'right_pinky_mcp_y', 'right_pinky_pip_x', 'right_pinky_pip_y']\n",
            "88\n"
          ]
        }
      ]
    },
    {
      "cell_type": "code",
      "source": [
        "model = tf.keras.models.Sequential([\n",
        "    tf.keras.layers.Flatten(input_shape=(3, 88)),\n",
        "    tf.keras.layers.Dense(200, activation=\"relu\"),\n",
        "    tf.keras.layers.Dense(100, activation=\"relu\"),\n",
        "    tf.keras.layers.Dense(50, activation=\"relu\"),\n",
        "    tf.keras.layers.Dropout(0.02),\n",
        "    tf.keras.layers.Dense(9)\n",
        "])\n",
        "\n",
        "params = {'batchsize': 64, 'dim': (3,88), 'n_channels': 1,\n",
        "                 'n_classes' : 9, 'shuffle':True }\n",
        "\n",
        "training_generator = DataGenerator(train_x_ids, labels, **params)\n",
        "\n",
        "model.compile(optimizer=\"adam\", loss=loss_fn, metrics=['accuracy'])\n",
        "model.fit(training_generator, epochs = 10)"
      ],
      "metadata": {
        "colab": {
          "base_uri": "https://localhost:8080/"
        },
        "id": "9sCP2Oqwk8aN",
        "outputId": "3016e476-f995-47b7-a2f1-a005b4eeb433"
      },
      "execution_count": null,
      "outputs": [
        {
          "output_type": "stream",
          "name": "stdout",
          "text": [
            "Epoch 1/10\n",
            "23/23 [==============================] - 3s 20ms/step - loss: 0.1357 - accuracy: 1.0000\n",
            "Epoch 2/10\n",
            "23/23 [==============================] - 0s 19ms/step - loss: 2.8551e-06 - accuracy: 1.0000\n",
            "Epoch 3/10\n",
            "23/23 [==============================] - 0s 20ms/step - loss: 1.1632e-06 - accuracy: 1.0000\n",
            "Epoch 4/10\n",
            "23/23 [==============================] - 0s 19ms/step - loss: 5.8138e-07 - accuracy: 1.0000\n",
            "Epoch 5/10\n",
            "23/23 [==============================] - 0s 19ms/step - loss: 5.6858e-07 - accuracy: 1.0000\n",
            "Epoch 6/10\n",
            "23/23 [==============================] - 0s 20ms/step - loss: 1.4587e-06 - accuracy: 1.0000\n",
            "Epoch 7/10\n",
            "23/23 [==============================] - 0s 18ms/step - loss: 3.2313e-07 - accuracy: 1.0000\n",
            "Epoch 8/10\n",
            "23/23 [==============================] - 0s 19ms/step - loss: 4.1253e-07 - accuracy: 1.0000\n",
            "Epoch 9/10\n",
            "23/23 [==============================] - 0s 18ms/step - loss: 5.1943e-07 - accuracy: 1.0000\n",
            "Epoch 10/10\n",
            "23/23 [==============================] - 0s 20ms/step - loss: 1.0128e-06 - accuracy: 1.0000\n"
          ]
        },
        {
          "output_type": "execute_result",
          "data": {
            "text/plain": [
              "<keras.src.callbacks.History at 0x7ff0d7461b10>"
            ]
          },
          "metadata": {},
          "execution_count": 89
        }
      ]
    },
    {
      "cell_type": "code",
      "source": [
        "model.evaluate(np.array(x_test), np.array(y_test), verbose =1)"
      ],
      "metadata": {
        "colab": {
          "base_uri": "https://localhost:8080/"
        },
        "id": "H6lvjbahlUnd",
        "outputId": "b2b239c0-4224-49f2-e4f9-1df1c5895058"
      },
      "execution_count": null,
      "outputs": [
        {
          "output_type": "stream",
          "name": "stdout",
          "text": [
            "21/21 [==============================] - 0s 2ms/step - loss: 1.9073e-06 - accuracy: 1.0000\n"
          ]
        },
        {
          "output_type": "execute_result",
          "data": {
            "text/plain": [
              "[1.9073471548836096e-06, 1.0]"
            ]
          },
          "metadata": {},
          "execution_count": 86
        }
      ]
    },
    {
      "cell_type": "code",
      "source": [
        "model.predict([x_test[0].tolist()])"
      ],
      "metadata": {
        "colab": {
          "base_uri": "https://localhost:8080/"
        },
        "id": "fxKuih1vokJn",
        "outputId": "14e8a872-7d7b-483e-9a38-8472d9492571"
      },
      "execution_count": null,
      "outputs": [
        {
          "output_type": "stream",
          "name": "stdout",
          "text": [
            "1/1 [==============================] - 0s 67ms/step\n"
          ]
        },
        {
          "output_type": "execute_result",
          "data": {
            "text/plain": [
              "array([[13.95454   , -2.2803986 , -5.829891  , -4.506932  , -1.2574911 ,\n",
              "        -1.5441258 , -2.0188477 , -5.2381926 ,  0.39285648]],\n",
              "      dtype=float32)"
            ]
          },
          "metadata": {},
          "execution_count": 87
        }
      ]
    }
  ],
  "metadata": {
    "kernelspec": {
      "display_name": "Python 3",
      "name": "python3"
    },
    "language_info": {
      "codemirror_mode": {
        "name": "ipython",
        "version": 3
      },
      "file_extension": ".py",
      "mimetype": "text/x-python",
      "name": "python",
      "nbconvert_exporter": "python",
      "pygments_lexer": "ipython3",
      "version": "3.9.6"
    },
    "colab": {
      "provenance": [],
      "gpuType": "T4",
      "include_colab_link": true
    },
    "accelerator": "GPU"
  },
  "nbformat": 4,
  "nbformat_minor": 0
}